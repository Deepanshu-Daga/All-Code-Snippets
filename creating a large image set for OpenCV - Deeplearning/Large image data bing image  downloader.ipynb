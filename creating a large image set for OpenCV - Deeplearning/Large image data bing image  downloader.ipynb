{
 "cells": [
  {
   "cell_type": "markdown",
   "id": "99aca914-87e2-4b99-9d45-cf0bd44b0f7f",
   "metadata": {},
   "source": [
    "# Install dependencies in anaconda cmd\n",
    "pip install bing image downloader"
   ]
  },
  {
   "cell_type": "markdown",
   "id": "1a7a864f-0f65-4eb7-a017-5bfbd67e5e0e",
   "metadata": {},
   "source": [
    "[Bing Image Downloader py document](https://pypi.org/project/bing-image-downloader/)\n",
    "\n",
    "\n",
    "[PERSONAL TUITORIAL ON BING IMAGE DOWNLOADER](https://www.youtube.com/watch?v=solASfMs89Q)\n",
    "\n",
    "\n",
    "\n"
   ]
  },
  {
   "cell_type": "markdown",
   "id": "debca529-3723-4419-90c6-b6fc8f100ac1",
   "metadata": {},
   "source": [
    "import os \n",
    "import bing_image_downloader\n",
    "\n",
    "\n",
    "search_term = 'industrial chimney smoke'\n",
    "path = os.getcwd()\n",
    "path = os.path.join(path , search_term + \"s\")\n",
    "\n",
    "\n",
    "from bing_image_downloader import downloader\n",
    "downloader.download(query = search_term,\n",
    "    limit=1000,\n",
    "    output_dir=\"path\",\n",
    "    adult_filter_off=True,\n",
    "    force_replace=False,\n",
    "    timeout=10,)"
   ]
  },
  {
   "cell_type": "markdown",
   "id": "8b820636-c8bd-4f32-8e04-fc09f8cf1339",
   "metadata": {},
   "source": [
    "# now collect all relevent image folders and make a single folder by renaming files\n"
   ]
  },
  {
   "cell_type": "code",
   "execution_count": null,
   "id": "d22a3b31-4601-460f-b62a-0519e7d012db",
   "metadata": {},
   "outputs": [],
   "source": [
    "import os\n",
    "\n",
    "path = os.chdir(r'C:\\Users\\Admin\\Desktop\\Daily temp\\path\\chimeny smoke')\n",
    "\n",
    "\n",
    "files = os.listdir(path)\n",
    "i = 1\n",
    "\n",
    "for file in files:\n",
    "    os.rename(file, 'img_'+ str(i)+'.jpg')\n",
    "    i = i+1"
   ]
  }
 ],
 "metadata": {
  "kernelspec": {
   "display_name": "Python 3 (ipykernel)",
   "language": "python",
   "name": "python3"
  },
  "language_info": {
   "codemirror_mode": {
    "name": "ipython",
    "version": 3
   },
   "file_extension": ".py",
   "mimetype": "text/x-python",
   "name": "python",
   "nbconvert_exporter": "python",
   "pygments_lexer": "ipython3",
   "version": "3.9.7"
  }
 },
 "nbformat": 4,
 "nbformat_minor": 5
}
