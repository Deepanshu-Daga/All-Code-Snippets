{
 "cells": [
  {
   "cell_type": "code",
   "execution_count": 3,
   "id": "90c3a83f-cef8-4a9d-9997-384df2e13ed0",
   "metadata": {},
   "outputs": [],
   "source": [
    "# PixelLib is a library created for performing image and video segmentation using few lines of code. It is a flexible library \n",
    "# created to allow easy integration of image and video segmentation into software solutions.\n",
    "\n",
    "# What is H5 file in ML?\n",
    "# H5 is a file format to store structured data, it's not a model by itself. Keras saves models in this format as it\n",
    "# can easily store the weights and model configuration in a single file."
   ]
  },
  {
   "cell_type": "markdown",
   "id": "a4a98e72-0f2f-4951-9e2d-416aedf5faf6",
   "metadata": {
    "tags": []
   },
   "source": [
    "# Real Time Image Segmentation And Object Detection From Live Video Stream Using PixelLib\n",
    "#### Install Dependencies in anaconda cmd\n",
    "\n",
    "pip install --upgrade --user pyqt5==5.15.0\n",
    "\n",
    "pip install pixellib"
   ]
  },
  {
   "cell_type": "markdown",
   "id": "2260a602-09cd-48c9-9c10-29d108468e55",
   "metadata": {},
   "source": [
    "[RCNN_MASK_MODEL_WEIGHTS_H5_FILE_DOWNLOAD](https://www.google.com/search?q=mask_rcnn_coco.h5&oq=mask_rc&aqs=chrome.1.69i57j0i512j0i10i131i433j0i512j0i10i512l2j0i10l4.8599j0j7&sourceid=chrome&ie=UTF-8)"
   ]
  },
  {
   "cell_type": "code",
   "execution_count": 7,
   "id": "ce124404-88d3-49ef-a2cb-181bc13b067c",
   "metadata": {},
   "outputs": [],
   "source": [
    "import cv2\n",
    "import pixellib\n",
    "from pixellib.instance import instance_segmentation\n",
    "\n",
    "\n",
    "segment_image = instance_segmentation()\n",
    "segment_image.load_model(\"mask_rcnn_coco.h5\")\n",
    "\n",
    "cam = cv2.VideoCapture(0)\n",
    "\n",
    "while cam.isOpened():\n",
    "     ret, frame = cam.read()\n",
    "        \n",
    "                                                                      # apply sementation\n",
    "     result = segment_image.segmentFrame(frame ,show_bboxes=True)     # segmnetframe gives back tuple and 1 st index here is frame after obj detectionn\n",
    "     image = result[1] \n",
    "     cv2.imshow(\"image segmentation\" , image)\n",
    "    \n",
    "     if cv2.waitKey(10) & 0xFF == ord(\"q\"):\n",
    "        break\n",
    "\n",
    "cam.release()\n",
    "cv2.destroyAllWindows()\n"
   ]
  },
  {
   "cell_type": "code",
   "execution_count": null,
   "id": "8bedcc3e-8cb6-49c7-8c10-44a1f57f0284",
   "metadata": {},
   "outputs": [],
   "source": []
  },
  {
   "cell_type": "code",
   "execution_count": null,
   "id": "8af43baf-9f8c-49c3-ba5a-1b9f08060053",
   "metadata": {},
   "outputs": [],
   "source": []
  },
  {
   "cell_type": "code",
   "execution_count": null,
   "id": "bec1166e-8c64-4f2c-943e-f0b7a7bc0c60",
   "metadata": {},
   "outputs": [],
   "source": []
  },
  {
   "cell_type": "code",
   "execution_count": null,
   "id": "6b92a74e-5de9-4e09-9f6e-7680bdee7be3",
   "metadata": {},
   "outputs": [],
   "source": []
  },
  {
   "cell_type": "code",
   "execution_count": null,
   "id": "ada1ffc1-1c0a-44a4-9657-00cbf31173d7",
   "metadata": {},
   "outputs": [],
   "source": []
  },
  {
   "cell_type": "code",
   "execution_count": null,
   "id": "3d39f357-5745-4b6a-bf63-51a24cc17fcd",
   "metadata": {},
   "outputs": [],
   "source": []
  }
 ],
 "metadata": {
  "kernelspec": {
   "display_name": "Python 3 (ipykernel)",
   "language": "python",
   "name": "python3"
  },
  "language_info": {
   "codemirror_mode": {
    "name": "ipython",
    "version": 3
   },
   "file_extension": ".py",
   "mimetype": "text/x-python",
   "name": "python",
   "nbconvert_exporter": "python",
   "pygments_lexer": "ipython3",
   "version": "3.9.7"
  }
 },
 "nbformat": 4,
 "nbformat_minor": 5
}
