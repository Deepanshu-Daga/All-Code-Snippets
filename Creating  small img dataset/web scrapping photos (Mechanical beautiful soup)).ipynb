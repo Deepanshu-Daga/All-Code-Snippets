{
 "cells": [
  {
   "cell_type": "markdown",
   "id": "3ebb6f60-8c57-4180-88cc-648dba281e15",
   "metadata": {},
   "source": [
    "# web scrapping photos (Mechanical beautiful soup))\n",
    "\n",
    "\n",
    "### Automating the downloading of a image and creating a data set of famous cat and dog in 10 min \n"
   ]
  },
  {
   "cell_type": "markdown",
   "id": "e7e1bb9b-56d8-459e-b8f0-82ca27b515de",
   "metadata": {},
   "source": [
    "##### Install under mentioned dependencies in anaconda cmd>>\n",
    "conda install -c conda-forge mechanicalsoup\n",
    "\n",
    "##### This will help in saving photos\n",
    "pip install wget\n"
   ]
  },
  {
   "cell_type": "markdown",
   "id": "86923ace-c89d-4df2-a17a-34a0110a8174",
   "metadata": {},
   "source": [
    "mechanicalsoup link-01\n"
   ]
  },
  {
   "cell_type": "code",
   "execution_count": 1,
   "id": "e2c6a566-f396-4a18-801b-da215c7049dd",
   "metadata": {},
   "outputs": [
    {
     "data": {
      "text/plain": [
       "<Response [200]>"
      ]
     },
     "execution_count": 1,
     "metadata": {},
     "output_type": "execute_result"
    }
   ],
   "source": [
    "                                                    # Note : make sure to use google images and not google.com\n",
    "\n",
    "import mechanicalsoup                          # it helps open the url by creating a browser object to convineniently work with html elements by  creating cookies of the page\n",
    "\n",
    "browser = mechanicalsoup.StatefulBrowser()     # creating a browser object to convineniently work with html elements by  creating cookies of the page   \n",
    "url = \"https://images.google.com/\"\n",
    "browser.open(url)            \n"
   ]
  },
  {
   "cell_type": "code",
   "execution_count": 2,
   "id": "318314c0-bf57-4bae-9cd7-c89fa9191396",
   "metadata": {},
   "outputs": [
    {
     "data": {
      "text/plain": [
       "<!DOCTYPE html>\n",
       "<html itemscope=\"\" itemtype=\"http://schema.org/WebPage\" lang=\"en-IN\"><head><meta content=\"Google Images. The most comprehensive image search on the web.\" name=\"description\"/><meta content=\"text/html; charset=utf-8\" http-equiv=\"Content-Type\"/><meta content=\"/images/branding/googleg/1x/googleg_standard_color_128dp.png\" itemprop=\"image\"/><title>Google Images</title><script nonce=\"aKUxWCFOLJP4urCViJcVqw==\">(function(){window.google={kEI:'qJFFYrX8HdWF-AalgKDoAg',kEXPI:'0,1302536,56873,6058,207,4804,2316,383,246,5,1353,4014,1237,1122516,1197735,666,380090,16114,19397,9287,17572,4858,997,365,9291,3025,2818,14765,4020,978,13227,3848,4192,6430,14762,7979,5081,1593,1279,2451,291,149,1943,6297,3514,606,2023,2297,14670,604,2623,2847,5,5599,11851,16320,1850,2615,13142,3,346,230,1014,1,5445,148,11323,966,1686,4,1528,2304,7039,20309,1714,3050,2658,7357,30,11412,2216,4437,9358,7428,5815,2542,4094,17,4035,3,3541,2,16806,38,25309,2,14022,1931,784,4805,743,5853,10463,1160,3481,2198,1020,2378,2722,18233,45,2,2,5,7736,4567,6256,6720,16700,831,422,5835,9211,2650,276,63,2767,4333,8,4669,1413,1394,445,2,2,1,6394,4562,13822,1407,447,8155,113,5011,5,1453,799,2,185,2,2259,594,5214,2215,421,881,1041,930,936,5250,1300,2190,2022,2,2,5,876,309,6,1450,2,1,499,3,5324,88,142,156,2,276,710,491,920,1699,4770,933,1763,958,748,607,24,30,750,98,2407,1723,92,173,394,172,1813,29,47,230,101,65,316,1533,593,289,2,384,77,672,65,424,6,2,131,7,1814,1145,232,5452824,99,2,850,246,2,118,5996009,2800685,882,444,3,1877,1,2562,1,748,141,795,563,1,4265,1,1,2,1331,4142,2609,155,17,13,72,139,4,2,20,2,169,13,19,46,5,39,96,548,29,2,2,1,2,1,2,2,7,4,1,2,2,2,2,2,2,353,513,186,1,1,158,3,2,2,2,2,2,4,2,3,3,269,1601,141,1002,312,2,2,11,2,13,89,2,1,2,2,5,1,23651726,299808,2738465,1300110,3,3112,3,450,1964,2935,159,1358,965,3761,3,2664,4099,729,3512,8,767393',kBL:'zIb2'};google.sn='imghp';google.kHL='en-IN';})();(function(){\n",
       "var f=this||self;var h,k=[];function l(a){for(var b;a&&(!a.getAttribute||!(b=a.getAttribute(\"eid\")));)a=a.parentNode;return b||h}function m(a){for(var b=null;a&&(!a.getAttribute||!(b=a.getAttribute(\"leid\")));)a=a.parentNode;return b}\n",
       "function n(a,b,c,d,g){var e=\"\";c||-1!==b.search(\"&ei=\")||(e=\"&ei=\"+l(d),-1===b.search(\"&lei=\")&&(d=m(d))&&(e+=\"&lei=\"+d));d=\"\";!c&&f._cshid&&-1===b.search(\"&cshid=\")&&\"slh\"!==a&&(d=\"&cshid=\"+f._cshid);c=c||\"/\"+(g||\"gen_204\")+\"?atyp=i&ct=\"+a+\"&cad=\"+b+e+\"&zx=\"+Date.now()+d;/^http:/i.test(c)&&\"https:\"===window.location.protocol&&(google.ml&&google.ml(Error(\"a\"),!1,{src:c,glmm:1}),c=\"\");return c};h=google.kEI;google.getEI=l;google.getLEI=m;google.ml=function(){return null};google.log=function(a,b,c,d,g){if(c=n(a,b,c,d,g)){a=new Image;var e=k.length;k[e]=a;a.onerror=a.onload=a.onabort=function(){delete k[e]};a.src=c}};google.logUrl=n;}).call(this);(function(){\n",
       "google.y={};google.sy=[];google.x=function(a,b){if(a)var c=a.id;else{do c=Math.random();while(google.y[c])}google.y[c]=[a,b];return!1};google.sx=function(a){google.sy.push(a)};google.lm=[];google.plm=function(a){google.lm.push.apply(google.lm,a)};google.lq=[];google.load=function(a,b,c){google.lq.push([[a],b,c])};google.loadAll=function(a,b){google.lq.push([a,b])};google.bx=!1;google.lx=function(){};}).call(this);google.f={};(function(){\n",
       "document.documentElement.addEventListener(\"submit\",function(b){var a;if(a=b.target){var c=a.getAttribute(\"data-submitfalse\");a=\"1\"===c||\"q\"===c&&!a.elements.q.value?!0:!1}else a=!1;a&&(b.preventDefault(),b.stopPropagation())},!0);document.documentElement.addEventListener(\"click\",function(b){var a;a:{for(a=b.target;a&&a!==document.documentElement;a=a.parentElement)if(\"A\"===a.tagName){a=\"1\"===a.getAttribute(\"data-nohref\");break a}a=!1}a&&b.preventDefault()},!0);}).call(this);</script><style>#gbar,#guser{font-size:13px;padding-top:1px !important;}#gbar{height:22px}#guser{padding-bottom:7px !important;text-align:right}.gbh,.gbd{border-top:1px solid #c9d7f1;font-size:1px}.gbh{height:0;position:absolute;top:24px;width:100%}@media all{.gb1{height:22px;margin-right:.5em;vertical-align:top}#gbar{float:left}}a.gb1,a.gb4{text-decoration:underline !important}a.gb1,a.gb4{color:#00c !important}.gbi .gb4{color:#dd8e27 !important}.gbf .gb4{color:#900 !important}\n",
       "</style><style>body,td,a,p,.h{font-family:arial,sans-serif}body{margin:0;overflow-y:scroll}#gog{padding:3px 8px 0}td{line-height:.8em}.gac_m td{line-height:17px}form{margin-bottom:20px}.h{color:#1558d6}em{font-weight:bold;font-style:normal}.lst{height:25px;width:496px}.gsfi,.lst{font:18px arial,sans-serif}.gsfs{font:17px arial,sans-serif}.ds{display:inline-box;display:inline-block;margin:3px 0 4px;margin-left:4px}input{font-family:inherit}body{background:#fff;color:#000}a{color:#4b11a8;text-decoration:none}a:hover,a:active{text-decoration:underline}.fl a{color:#1558d6}a:visited{color:#4b11a8}.sblc{padding-top:5px}.sblc a{display:block;margin:2px 0;margin-left:13px;font-size:11px}.lsbb{background:#f8f9fa;border:solid 1px;border-color:#dadce0 #70757a #70757a #dadce0;height:30px}.lsbb{display:block}#WqQANb a{display:inline-block;margin:0 12px}.lsb{background:url(/images/nav_logo229.png) 0 -261px repeat-x;border:none;color:#000;cursor:pointer;height:30px;margin:0;outline:0;font:15px arial,sans-serif;vertical-align:top}.lsb:active{background:#dadce0}.lst:focus{outline:none}.prms{color:#c5221f;font-size:13px}.sshppd{font-size:13px;margin:32px 0 26px}.sshpplo span{color:#c5221f}.sshpplt{margin:15px 0 30px}</style><script nonce=\"aKUxWCFOLJP4urCViJcVqw==\">(function(){window.google.erd={jsr:1,bv:1555,de:true};\n",
       "var f=this||self;var g,h=null!=(g=f.mei)?g:1,m,n=null!=(m=f.sdo)?m:!0,p=0,q,r=google.erd,u=r.jsr;google.ml=function(a,b,d,k,c){c=void 0===c?2:c;b&&(q=a&&a.message);if(google.dl)return google.dl(a,c,d),null;if(0>u){window.console&&console.error(a,d);if(-2===u)throw a;b=!1}else b=!a||!a.message||\"Error loading script\"===a.message||p>=h&&!k?!1:!0;if(!b)return null;p++;d=d||{};var e=c;c=encodeURIComponent;b=\"/gen_204?atyp=i&ei=\"+c(google.kEI);google.kEXPI&&(b+=\"&jexpid=\"+c(google.kEXPI));b+=\"&srcpg=\"+c(google.sn)+\"&jsr=\"+c(r.jsr)+\"&bver=\"+c(r.bv)+(\"&jsel=\"+e);e=a.lineNumber;void 0!==e&&(b+=\"&line=\"+\n",
       "e);var l=a.fileName;l&&(b+=\"&script=\"+c(l),e&&l===window.location.href&&(e=document.documentElement.outerHTML.split(\"\\n\")[e],b+=\"&cad=\"+c(e?e.substring(0,300):\"No script found.\")));for(var t in d)b+=\"&\",b+=c(t),b+=\"=\",b+=c(d[t]);b=b+\"&emsg=\"+c(a.name+\": \"+a.message);b=b+\"&jsst=\"+c(a.stack||\"N/A\");12288<=b.length&&(b=b.substr(0,12288));a=b;k||google.log(0,\"\",a);return a};window.onerror=function(a,b,d,k,c){q!==a&&(a=c instanceof Error?c:Error(a),void 0===d||\"lineNumber\"in a||(a.lineNumber=d),void 0===b||\"fileName\"in a||(a.fileName=b),google.ml(a,!1,void 0,!1,\"SyntaxError\"===a.name||\"SyntaxError\"===a.message.substring(0,11)?2:0));q=null;n&&p>=h&&(window.onerror=null)};})();</script></head><body bgcolor=\"#fff\"><script nonce=\"aKUxWCFOLJP4urCViJcVqw==\">(function(){var src='/images/nav_logo229.png';var iesg=false;document.body.onload = function(){window.n && window.n();if (document.images){new Image().src=src;}\n",
       "if (!iesg){document.f&&document.f.q.focus();document.gbqf&&document.gbqf.q.focus();}\n",
       "}\n",
       "})();</script><div id=\"mngb\"><div id=\"gbar\"><nobr><a class=\"gb1\" href=\"https://www.google.co.in/webhp?tab=iw\">Search</a> <b class=\"gb1\">Images</b> <a class=\"gb1\" href=\"https://maps.google.co.in/maps?hl=en&amp;tab=il\">Maps</a> <a class=\"gb1\" href=\"https://play.google.com/?hl=en&amp;tab=i8\">Play</a> <a class=\"gb1\" href=\"https://www.youtube.com/?gl=IN&amp;tab=i1\">YouTube</a> <a class=\"gb1\" href=\"https://news.google.com/?tab=in\">News</a> <a class=\"gb1\" href=\"https://mail.google.com/mail/?tab=im\">Gmail</a> <a class=\"gb1\" href=\"https://drive.google.com/?tab=io\">Drive</a> <a class=\"gb1\" href=\"https://www.google.co.in/intl/en/about/products?tab=ih\" style=\"text-decoration:none\"><u>More</u> »</a></nobr></div><div id=\"guser\" width=\"100%\"><nobr><span class=\"gbi\" id=\"gbn\"></span><span class=\"gbf\" id=\"gbf\"></span><span id=\"gbe\"></span><a class=\"gb4\" href=\"http://www.google.co.in/history/optout?hl=en\">Web History</a> | <a class=\"gb4\" href=\"/preferences?hl=en\">Settings</a> | <a class=\"gb4\" href=\"https://accounts.google.com/ServiceLogin?hl=en&amp;passive=true&amp;continue=https://images.google.com/&amp;ec=GAZAAg\" id=\"gb_70\" target=\"_top\">Sign in</a></nobr></div><div class=\"gbh\" style=\"left:0\"></div><div class=\"gbh\" style=\"right:0\"></div></div><center><br clear=\"all\" id=\"lgpd\"/><div id=\"lga\"><div style=\"padding:28px 0 3px\"><div align=\"left\" id=\"hplogo\" style=\"height:110px;width:276px;background:url(/intl/en_ALL/images/branding/googlelogo/1x/googlelogo_white_background_color_272x92dp.png) no-repeat\" title=\"Google Images\"><div nowrap=\"\" style=\"font-size:16px;font-weight:bold;position:relative;top:70px;color:#1a73e8;right:115px;float:right\"><span>images</span></div></div></div><br/></div><form action=\"https://www.google.com/search\" name=\"f\"><table cellpadding=\"0\" cellspacing=\"0\"><tr valign=\"top\"><td width=\"25%\"> </td><td align=\"center\" nowrap=\"\"><input name=\"tbm\" type=\"hidden\" value=\"isch\"/><input name=\"ie\" type=\"hidden\" value=\"ISO-8859-1\"/><input name=\"hl\" type=\"hidden\" value=\"en-IN\"/><input name=\"source\" type=\"hidden\" value=\"hp\"/><input name=\"biw\" type=\"hidden\"/><input name=\"bih\" type=\"hidden\"/><div class=\"ds\" style=\"height:32px;margin:4px 0\"><input autocomplete=\"off\" class=\"lst\" maxlength=\"2048\" name=\"q\" size=\"57\" style=\"margin:0;padding:5px 8px 0 6px;vertical-align:top;color:#000\" title=\"Search Images\" value=\"\"/></div> <span class=\"ds\"><span class=\"lsbb\"><input class=\"lsb\" name=\"btnG\" type=\"submit\" value=\"Search Images\"/></span></span></td><td align=\"left\" class=\"fl sblc\" nowrap=\"\" valign=\"middle\" width=\"25%\"><a href=\"/advanced_image_search?hl=en-IN&amp;authuser=0\">Advanced Image Search</a></td></tr></table><input id=\"gbv\" name=\"gbv\" type=\"hidden\" value=\"1\"/><script nonce=\"aKUxWCFOLJP4urCViJcVqw==\">(function(){\n",
       "var a,b=\"1\";if(document&&document.getElementById)if(\"undefined\"!=typeof XMLHttpRequest)b=\"2\";else if(\"undefined\"!=typeof ActiveXObject){var c,d,e=[\"MSXML2.XMLHTTP.6.0\",\"MSXML2.XMLHTTP.3.0\",\"MSXML2.XMLHTTP\",\"Microsoft.XMLHTTP\"];for(c=0;d=e[c++];)try{new ActiveXObject(d),b=\"2\"}catch(h){}}a=b;if(\"2\"==a&&-1==location.search.indexOf(\"&gbv=2\")){var f=google.gbvu,g=document.getElementById(\"gbv\");g&&(g.value=a);f&&window.setTimeout(function(){location.href=f},0)};}).call(this);</script></form><div id=\"gac_scont\"></div><div style=\"font-size:83%;min-height:3.5em\"><br/></div><span id=\"footer\"><div style=\"font-size:10pt\"><div id=\"WqQANb\" style=\"margin:19px auto;text-align:center\"><a href=\"/intl/en/ads/\">Advertising Programs</a><a href=\"http://www.google.co.in/services/\">Business Solutions</a><a href=\"/intl/en/about.html\">About Google</a></div></div><p style=\"font-size:8pt;color:#70757a\">© 2022 - <a href=\"/intl/en/policies/privacy/\">Privacy</a> - <a href=\"/intl/en/policies/terms/\">Terms</a></p></span></center><script nonce=\"aKUxWCFOLJP4urCViJcVqw==\">(function(){window.google.cdo={height:757,width:1440};(function(){\n",
       "var a=window.innerWidth,b=window.innerHeight;if(!a||!b){var c=window.document,d=\"CSS1Compat\"==c.compatMode?c.documentElement:c.body;a=d.clientWidth;b=d.clientHeight}a&&b&&(a!=google.cdo.width||b!=google.cdo.height)&&google.log(\"\",\"\",\"/client_204?&atyp=i&biw=\"+a+\"&bih=\"+b+\"&ei=\"+google.kEI);}).call(this);})();</script> <script nonce=\"aKUxWCFOLJP4urCViJcVqw==\">(function(){google.xjs={ck:'',cs:'',excm:[]};})();</script> <script nonce=\"aKUxWCFOLJP4urCViJcVqw==\">(function(){var u='/xjs/_/js/k\\x3dxjs.hp.en.DfcTcxDpFPQ.O/am\\x3dAOAJAIAEIAE/d\\x3d1/ed\\x3d1/esmo\\x3d1/rs\\x3dACT90oFVykrUMoYPNQlALJe1Q1uz821frg/m\\x3dsb_he,d';\n",
       "var d=this||self,e=function(a){return a};var g;var l=function(a,b){this.g=b===h?a:\"\"};l.prototype.toString=function(){return this.g+\"\"};var h={};\n",
       "function n(){var a=u;google.lx=function(){p(a);google.lx=function(){}};google.bx||google.lx()}\n",
       "function p(a){google.timers&&google.timers.load&&google.tick&&google.tick(\"load\",\"xjsls\");var b=document;var c=\"SCRIPT\";\"application/xhtml+xml\"===b.contentType&&(c=c.toLowerCase());c=b.createElement(c);if(void 0===g){b=null;var k=d.trustedTypes;if(k&&k.createPolicy){try{b=k.createPolicy(\"goog#html\",{createHTML:e,createScript:e,createScriptURL:e})}catch(q){d.console&&d.console.error(q.message)}g=b}else g=b}a=(b=g)?b.createScriptURL(a):a;a=new l(a,h);c.src=a instanceof l&&a.constructor===l?a.g:\"type_error:TrustedResourceUrl\";var f,m;(f=(a=null==(m=(f=(c.ownerDocument&&c.ownerDocument.defaultView||window).document).querySelector)?void 0:m.call(f,\"script[nonce]\"))?a.nonce||a.getAttribute(\"nonce\")||\"\":\"\")&&c.setAttribute(\"nonce\",f);document.body.appendChild(c);google.psa=!0};google.xjsu=u;setTimeout(function(){n()},0);})();function _DumpException(e){throw e;}\n",
       "function _F_installCss(c){}\n",
       "(function(){google.jl={attn:false,blt:'none',chnk:0,dw:false,dwu:true,emtn:0,end:0,ine:false,injs:'none',injt:0,lls:'default',pdt:0,rep:0,snet:true,strt:0,ubm:false,uwp:true};})();(function(){var pmc='{\\x22d\\x22:{},\\x22sb_he\\x22:{\\x22agen\\x22:true,\\x22cgen\\x22:true,\\x22client\\x22:\\x22img\\x22,\\x22dh\\x22:true,\\x22dhqt\\x22:true,\\x22ds\\x22:\\x22i\\x22,\\x22ffql\\x22:\\x22en\\x22,\\x22host\\x22:\\x22google.com\\x22,\\x22isbh\\x22:28,\\x22jsonp\\x22:true,\\x22msgs\\x22:{\\x22cibl\\x22:\\x22Clear Search\\x22,\\x22dym\\x22:\\x22Did you mean:\\x22,\\x22lcky\\x22:\\x22I\\\\u0026#39;m Feeling Lucky\\x22,\\x22lml\\x22:\\x22Learn more\\x22,\\x22oskt\\x22:\\x22Input tools\\x22,\\x22psrc\\x22:\\x22This search was removed from your \\\\u003Ca href\\x3d\\\\\\x22/history\\\\\\x22\\\\u003EWeb History\\\\u003C/a\\\\u003E\\x22,\\x22psrl\\x22:\\x22Remove\\x22,\\x22sbit\\x22:\\x22Search by image\\x22,\\x22srch\\x22:\\x22Google Search\\x22},\\x22ovr\\x22:{},\\x22pq\\x22:\\x22\\x22,\\x22sbas\\x22:\\x220 3px 8px 0 rgba(0,0,0,0.2),0 0 0 1px rgba(0,0,0,0.08)\\x22,\\x22sbpl\\x22:16,\\x22sbpr\\x22:16,\\x22scd\\x22:10,\\x22stok\\x22:\\x22Ek0-7stS5BXuJISuYZQ-hBdvWwY\\x22,\\x22uhde\\x22:false}}';google.pmc=JSON.parse(pmc);})();</script> </body></html>"
      ]
     },
     "execution_count": 2,
     "metadata": {},
     "output_type": "execute_result"
    }
   ],
   "source": [
    "                                                # Extracting html from browser page ::: HTML is the language for describing the structure of Web pages.\n",
    "browser.get_current_page()                      # HTML gives authors the means to:Publish online documents with headings, text, tables, lists, photos, etc. \n",
    "                                                # Retrieve online information via hypertext links, at the click of a button.\n"
   ]
  },
  {
   "cell_type": "code",
   "execution_count": 3,
   "id": "4bcbcf45-d2dd-42f5-9514-919cd06b49ef",
   "metadata": {},
   "outputs": [
    {
     "name": "stdout",
     "output_type": "stream",
     "text": [
      "<input name=\"tbm\" type=\"hidden\" value=\"isch\"/>\n",
      "<input name=\"ie\" type=\"hidden\" value=\"ISO-8859-1\"/>\n",
      "<input name=\"hl\" type=\"hidden\" value=\"en-IN\"/>\n",
      "<input name=\"source\" type=\"hidden\" value=\"hp\"/>\n",
      "<input name=\"biw\" type=\"hidden\"/>\n",
      "<input name=\"bih\" type=\"hidden\"/>\n",
      "<input autocomplete=\"off\" class=\"lst\" maxlength=\"2048\" name=\"q\" size=\"57\" style=\"margin:0;padding:5px 8px 0 6px;vertical-align:top;color:#000\" title=\"Search Images\" value=\"\"/>\n",
      "<input class=\"lsb\" name=\"btnG\" type=\"submit\" value=\"Search Images\"/>\n",
      "<input id=\"gbv\" name=\"gbv\" type=\"hidden\" value=\"1\"/>\n"
     ]
    }
   ],
   "source": [
    "\n",
    "browser.select_form()                                            # target the selected search field\n",
    "browser.get_current_form().print_summary()                       # this gives all the available input fields on page\n"
   ]
  },
  {
   "cell_type": "markdown",
   "id": "c064970b-831f-44fa-84c6-f518642411a5",
   "metadata": {},
   "source": [
    "# creating a search variable"
   ]
  },
  {
   "cell_type": "code",
   "execution_count": 4,
   "id": "53ba8396-2d9b-445d-bc7a-c5e3b0e5147d",
   "metadata": {},
   "outputs": [],
   "source": [
    "\n",
    "search_term  = \"bayblade\"                                                  \n",
    "browser[\"q\"] = search_term                                            # in inspect /developers page for search bar we need ----------------name=\"q\"\n",
    "                                                                      # search for a term\n",
    "        "
   ]
  },
  {
   "cell_type": "code",
   "execution_count": 5,
   "id": "781d94f0-e096-42b4-9c64-c35ebafc3f9b",
   "metadata": {},
   "outputs": [
    {
     "name": "stdout",
     "output_type": "stream",
     "text": [
      "new url:  https://www.google.com/search?tbm=isch&ie=ISO-8859-1&hl=en-IN&source=hp&biw=&bih=&q=bayblade&btnG=Search+Images&gbv=1\n",
      "new response  : \n",
      " <!DOCTYPE html PUBLIC \"-//WAPFORUM//DTD XHTML Mobile 1.0//EN\" \"http://www.wapforum.org/DTD/xhtml-mobile10.dtd\"><html xmlns=\"http://www.w3.org/1999/xhtml\" lang=\"en-IN\"><head><meta content=\"application/xhtml+xml; charset=UTF-8\" http-equiv=\"Content-Type\"/><meta content=\"no-cache\" name=\"Cache-Control\"/><title>bayblade - Google Search</title><style>a{text-decoration:none;color:inherit}a:hover{text-decoration:underline}a img{border:0}body{font-family:Roboto,Helvetica,Arial,sans-serif;padding:8px;margi\n"
     ]
    }
   ],
   "source": [
    "                                                                      # pushing the created search command back to web page yet\n",
    "\n",
    "browser.launch_browser()                                              # this writes cat inside the search box  \n",
    " \n",
    "response = browser.submit_selected()                                  # submitting our search of cat = cat + enter and accept the responses collected \n",
    "\n",
    "print(\"new url: \", browser.get_url())                                 # since after selecting cat we are directed to new page thus = new url of cat page\n",
    "print(\"new response  : \\n\", response.text[:500])                      # also printing response of this new page\n",
    "\n"
   ]
  },
  {
   "cell_type": "code",
   "execution_count": 6,
   "id": "a031c848-2bc6-4f50-94b9-cd38e8000011",
   "metadata": {},
   "outputs": [
    {
     "data": {
      "text/plain": [
       "[<img alt=\"Google\" class=\"kgJEQe\" src=\"/images/branding/searchlogo/1x/googlelogo_desk_heirloom_color_150x55dp.gif\"/>,\n",
       " <img alt=\"\" class=\"yWs4tf\" src=\"https://encrypted-tbn0.gstatic.com/images?q=tbn:ANd9GcRN9CYdje97h7olj36Pwg0EL2c8U631weGLazyWQktpqlrc2Fks0XXvtnqRXyo&amp;s\"/>,\n",
       " <img alt=\"\" class=\"yWs4tf\" src=\"https://encrypted-tbn0.gstatic.com/images?q=tbn:ANd9GcTAnC2PZ4kdI-4_uL-xPerHeaXvh9xJOKUvfrBLgk2rXqXpwI63KiE-qdfYJQ&amp;s\"/>,\n",
       " <img alt=\"\" class=\"yWs4tf\" src=\"https://encrypted-tbn0.gstatic.com/images?q=tbn:ANd9GcTNnWmklPbvGZ4L8BJrGCkC1dZrwD2CURNTmhf5_3NCun10hxc_SfDOKaqIaQ&amp;s\"/>,\n",
       " <img alt=\"\" class=\"yWs4tf\" src=\"https://encrypted-tbn0.gstatic.com/images?q=tbn:ANd9GcR-QNrUvzUC6n10D-LkYFUFn9b7tGrZmIcEdn0jASUhn1uf8O-35fNHg9g9BQ&amp;s\"/>,\n",
       " <img alt=\"\" class=\"yWs4tf\" src=\"https://encrypted-tbn0.gstatic.com/images?q=tbn:ANd9GcTSmK1CPLZpRbffMNr3-3xyAHJol0uilisW8Zgs_5SxOHXlyilxhjy9xNrGNQ&amp;s\"/>,\n",
       " <img alt=\"\" class=\"yWs4tf\" src=\"https://encrypted-tbn0.gstatic.com/images?q=tbn:ANd9GcRbsYuLRbms-3tQ4kbsBdVdQe5FwbVW63EigIvqADeToVA8i0UH0qEsAebZOvM&amp;s\"/>,\n",
       " <img alt=\"\" class=\"yWs4tf\" src=\"https://encrypted-tbn0.gstatic.com/images?q=tbn:ANd9GcTN-tqQ2uUQz_ob8Ydo3xaf252Hghhh55ECnVNniSx1vbNazs6R1MNoKWZicCA&amp;s\"/>,\n",
       " <img alt=\"\" class=\"yWs4tf\" src=\"https://encrypted-tbn0.gstatic.com/images?q=tbn:ANd9GcSCvCIOHepVgeXg-u2hUqUFslR4bccp5-eBNN3AVU2QmNBJwliGIMsyLfmyc_o&amp;s\"/>,\n",
       " <img alt=\"\" class=\"yWs4tf\" src=\"https://encrypted-tbn0.gstatic.com/images?q=tbn:ANd9GcT18CeEfImpGYZnwGxT6pUM-i5X9D-90vcjRaWCed8AQ9vaNT2Ts-Po0QJUnLk&amp;s\"/>,\n",
       " <img alt=\"\" class=\"yWs4tf\" src=\"https://encrypted-tbn0.gstatic.com/images?q=tbn:ANd9GcTcafz-M6q6pSxtah5bwV9yU_F-lbUrN-Oj439Dr-O69ZIfcyRI9-LTKzkZ3P8&amp;s\"/>,\n",
       " <img alt=\"\" class=\"yWs4tf\" src=\"https://encrypted-tbn0.gstatic.com/images?q=tbn:ANd9GcTrkUEh8G7YIX_BKHihL212Uk59znbgk0P7TtEkKixBrPnLZrev1pewCCJrNw&amp;s\"/>,\n",
       " <img alt=\"\" class=\"yWs4tf\" src=\"https://encrypted-tbn0.gstatic.com/images?q=tbn:ANd9GcSVOIGBMYKTP141MuJYJ9wgUVjUJqSSpF_F8jabqkMJPGM92lGDCEHvqtzG7Xg&amp;s\"/>,\n",
       " <img alt=\"\" class=\"yWs4tf\" src=\"https://encrypted-tbn0.gstatic.com/images?q=tbn:ANd9GcSl1egYtKwdq83tyGallg6pRx9xFfavUuoFtqfqbUGBhyQ76BDyUyLhOetLRWQ&amp;s\"/>,\n",
       " <img alt=\"\" class=\"yWs4tf\" src=\"https://encrypted-tbn0.gstatic.com/images?q=tbn:ANd9GcTdcX3VdbfzKI6kIaGLM47V5Kynb7HrfJeGJA5xwKxz4lkz1rKpDwPlbl01Tg&amp;s\"/>,\n",
       " <img alt=\"\" class=\"yWs4tf\" src=\"https://encrypted-tbn0.gstatic.com/images?q=tbn:ANd9GcTFku6PIeCtYiykUm21FoLuE_oFNT-5zfgbZJzdEIiRQMFLQakjFGKEuvXvMQ&amp;s\"/>,\n",
       " <img alt=\"\" class=\"yWs4tf\" src=\"https://encrypted-tbn0.gstatic.com/images?q=tbn:ANd9GcQ3OlOTndyfC7eCPzWZcaNcPPNftSpetOUXkDE9m-QrI7_8DwY9jabMI6Olndw&amp;s\"/>,\n",
       " <img alt=\"\" class=\"yWs4tf\" src=\"https://encrypted-tbn0.gstatic.com/images?q=tbn:ANd9GcRSgpfMVBKgPIDR63AKENy3fDgzECFX4RgHToHYelLp8dA6ho7k2Wsd5z9AV_U&amp;s\"/>,\n",
       " <img alt=\"\" class=\"yWs4tf\" src=\"https://encrypted-tbn0.gstatic.com/images?q=tbn:ANd9GcSjF4haxOJxheVjHDdaHT6PfMLXVxw0Waw1YnFyLI8hzl8xVq1_bSEwLnd3Fw&amp;s\"/>,\n",
       " <img alt=\"\" class=\"yWs4tf\" src=\"https://encrypted-tbn0.gstatic.com/images?q=tbn:ANd9GcQgyNbGR30E9eyavgQMy5vcFM_gjNH3h_rrcP_Jz-2GMHqUYuapg-y3PYIDGMU&amp;s\"/>,\n",
       " <img alt=\"\" class=\"yWs4tf\" src=\"https://encrypted-tbn0.gstatic.com/images?q=tbn:ANd9GcTPcNHNQpctUGtgPuXH-vVEu_gX4cxtDNGE32GUo6y_m-Ys4m9jPb4jgNyNHug&amp;s\"/>]"
      ]
     },
     "execution_count": 6,
     "metadata": {},
     "output_type": "execute_result"
    }
   ],
   "source": [
    "\n",
    "new_url = browser.get_url()                                           # saving and opening the new url in a variable\n",
    "browser.open(new_url) \n",
    "\n",
    "\n",
    "import time\n",
    "time.sleep(10)\n",
    "\n",
    "# opening this new page\n",
    "page = browser.get_current_page()                                     # again collecting html/images\n",
    "\n",
    "all_images = page.find_all(\"img\")                                     # inside (\"\") img html abrivation for images\n",
    "\n",
    "all_images\n",
    "\n"
   ]
  },
  {
   "cell_type": "code",
   "execution_count": 7,
   "id": "eff9b145-f6f4-46e7-b0a4-7e1c317acfab",
   "metadata": {},
   "outputs": [
    {
     "data": {
      "text/plain": [
       "['/images/branding/searchlogo/1x/googlelogo_desk_heirloom_color_150x55dp.gif',\n",
       " 'https://encrypted-tbn0.gstatic.com/images?q=tbn:ANd9GcRN9CYdje97h7olj36Pwg0EL2c8U631weGLazyWQktpqlrc2Fks0XXvtnqRXyo&s',\n",
       " 'https://encrypted-tbn0.gstatic.com/images?q=tbn:ANd9GcTAnC2PZ4kdI-4_uL-xPerHeaXvh9xJOKUvfrBLgk2rXqXpwI63KiE-qdfYJQ&s',\n",
       " 'https://encrypted-tbn0.gstatic.com/images?q=tbn:ANd9GcTNnWmklPbvGZ4L8BJrGCkC1dZrwD2CURNTmhf5_3NCun10hxc_SfDOKaqIaQ&s',\n",
       " 'https://encrypted-tbn0.gstatic.com/images?q=tbn:ANd9GcR-QNrUvzUC6n10D-LkYFUFn9b7tGrZmIcEdn0jASUhn1uf8O-35fNHg9g9BQ&s',\n",
       " 'https://encrypted-tbn0.gstatic.com/images?q=tbn:ANd9GcTSmK1CPLZpRbffMNr3-3xyAHJol0uilisW8Zgs_5SxOHXlyilxhjy9xNrGNQ&s',\n",
       " 'https://encrypted-tbn0.gstatic.com/images?q=tbn:ANd9GcRbsYuLRbms-3tQ4kbsBdVdQe5FwbVW63EigIvqADeToVA8i0UH0qEsAebZOvM&s',\n",
       " 'https://encrypted-tbn0.gstatic.com/images?q=tbn:ANd9GcTN-tqQ2uUQz_ob8Ydo3xaf252Hghhh55ECnVNniSx1vbNazs6R1MNoKWZicCA&s',\n",
       " 'https://encrypted-tbn0.gstatic.com/images?q=tbn:ANd9GcSCvCIOHepVgeXg-u2hUqUFslR4bccp5-eBNN3AVU2QmNBJwliGIMsyLfmyc_o&s',\n",
       " 'https://encrypted-tbn0.gstatic.com/images?q=tbn:ANd9GcT18CeEfImpGYZnwGxT6pUM-i5X9D-90vcjRaWCed8AQ9vaNT2Ts-Po0QJUnLk&s',\n",
       " 'https://encrypted-tbn0.gstatic.com/images?q=tbn:ANd9GcTcafz-M6q6pSxtah5bwV9yU_F-lbUrN-Oj439Dr-O69ZIfcyRI9-LTKzkZ3P8&s',\n",
       " 'https://encrypted-tbn0.gstatic.com/images?q=tbn:ANd9GcTrkUEh8G7YIX_BKHihL212Uk59znbgk0P7TtEkKixBrPnLZrev1pewCCJrNw&s',\n",
       " 'https://encrypted-tbn0.gstatic.com/images?q=tbn:ANd9GcSVOIGBMYKTP141MuJYJ9wgUVjUJqSSpF_F8jabqkMJPGM92lGDCEHvqtzG7Xg&s',\n",
       " 'https://encrypted-tbn0.gstatic.com/images?q=tbn:ANd9GcSl1egYtKwdq83tyGallg6pRx9xFfavUuoFtqfqbUGBhyQ76BDyUyLhOetLRWQ&s',\n",
       " 'https://encrypted-tbn0.gstatic.com/images?q=tbn:ANd9GcTdcX3VdbfzKI6kIaGLM47V5Kynb7HrfJeGJA5xwKxz4lkz1rKpDwPlbl01Tg&s',\n",
       " 'https://encrypted-tbn0.gstatic.com/images?q=tbn:ANd9GcTFku6PIeCtYiykUm21FoLuE_oFNT-5zfgbZJzdEIiRQMFLQakjFGKEuvXvMQ&s',\n",
       " 'https://encrypted-tbn0.gstatic.com/images?q=tbn:ANd9GcQ3OlOTndyfC7eCPzWZcaNcPPNftSpetOUXkDE9m-QrI7_8DwY9jabMI6Olndw&s',\n",
       " 'https://encrypted-tbn0.gstatic.com/images?q=tbn:ANd9GcRSgpfMVBKgPIDR63AKENy3fDgzECFX4RgHToHYelLp8dA6ho7k2Wsd5z9AV_U&s',\n",
       " 'https://encrypted-tbn0.gstatic.com/images?q=tbn:ANd9GcSjF4haxOJxheVjHDdaHT6PfMLXVxw0Waw1YnFyLI8hzl8xVq1_bSEwLnd3Fw&s',\n",
       " 'https://encrypted-tbn0.gstatic.com/images?q=tbn:ANd9GcQgyNbGR30E9eyavgQMy5vcFM_gjNH3h_rrcP_Jz-2GMHqUYuapg-y3PYIDGMU&s',\n",
       " 'https://encrypted-tbn0.gstatic.com/images?q=tbn:ANd9GcTPcNHNQpctUGtgPuXH-vVEu_gX4cxtDNGE32GUo6y_m-Ys4m9jPb4jgNyNHug&s']"
      ]
     },
     "execution_count": 7,
     "metadata": {},
     "output_type": "execute_result"
    }
   ],
   "source": [
    "# we dont really need the image tag  we only need the source part in the iamge tag\n",
    "\n",
    "# thus targeting the source attribute\n",
    "image_source = []\n",
    "for image in all_images:\n",
    "    image = image.get(\"src\")\n",
    "    image_source.append(image)\n",
    "    \n",
    "image_source"
   ]
  },
  {
   "cell_type": "code",
   "execution_count": 8,
   "id": "86d9e390-d74b-4b20-a6ca-d66db7e5839d",
   "metadata": {},
   "outputs": [
    {
     "data": {
      "text/plain": [
       "['https://encrypted-tbn0.gstatic.com/images?q=tbn:ANd9GcRN9CYdje97h7olj36Pwg0EL2c8U631weGLazyWQktpqlrc2Fks0XXvtnqRXyo&s',\n",
       " 'https://encrypted-tbn0.gstatic.com/images?q=tbn:ANd9GcTAnC2PZ4kdI-4_uL-xPerHeaXvh9xJOKUvfrBLgk2rXqXpwI63KiE-qdfYJQ&s',\n",
       " 'https://encrypted-tbn0.gstatic.com/images?q=tbn:ANd9GcTNnWmklPbvGZ4L8BJrGCkC1dZrwD2CURNTmhf5_3NCun10hxc_SfDOKaqIaQ&s',\n",
       " 'https://encrypted-tbn0.gstatic.com/images?q=tbn:ANd9GcR-QNrUvzUC6n10D-LkYFUFn9b7tGrZmIcEdn0jASUhn1uf8O-35fNHg9g9BQ&s',\n",
       " 'https://encrypted-tbn0.gstatic.com/images?q=tbn:ANd9GcTSmK1CPLZpRbffMNr3-3xyAHJol0uilisW8Zgs_5SxOHXlyilxhjy9xNrGNQ&s',\n",
       " 'https://encrypted-tbn0.gstatic.com/images?q=tbn:ANd9GcRbsYuLRbms-3tQ4kbsBdVdQe5FwbVW63EigIvqADeToVA8i0UH0qEsAebZOvM&s',\n",
       " 'https://encrypted-tbn0.gstatic.com/images?q=tbn:ANd9GcTN-tqQ2uUQz_ob8Ydo3xaf252Hghhh55ECnVNniSx1vbNazs6R1MNoKWZicCA&s',\n",
       " 'https://encrypted-tbn0.gstatic.com/images?q=tbn:ANd9GcSCvCIOHepVgeXg-u2hUqUFslR4bccp5-eBNN3AVU2QmNBJwliGIMsyLfmyc_o&s',\n",
       " 'https://encrypted-tbn0.gstatic.com/images?q=tbn:ANd9GcT18CeEfImpGYZnwGxT6pUM-i5X9D-90vcjRaWCed8AQ9vaNT2Ts-Po0QJUnLk&s',\n",
       " 'https://encrypted-tbn0.gstatic.com/images?q=tbn:ANd9GcTcafz-M6q6pSxtah5bwV9yU_F-lbUrN-Oj439Dr-O69ZIfcyRI9-LTKzkZ3P8&s',\n",
       " 'https://encrypted-tbn0.gstatic.com/images?q=tbn:ANd9GcTrkUEh8G7YIX_BKHihL212Uk59znbgk0P7TtEkKixBrPnLZrev1pewCCJrNw&s',\n",
       " 'https://encrypted-tbn0.gstatic.com/images?q=tbn:ANd9GcSVOIGBMYKTP141MuJYJ9wgUVjUJqSSpF_F8jabqkMJPGM92lGDCEHvqtzG7Xg&s',\n",
       " 'https://encrypted-tbn0.gstatic.com/images?q=tbn:ANd9GcSl1egYtKwdq83tyGallg6pRx9xFfavUuoFtqfqbUGBhyQ76BDyUyLhOetLRWQ&s',\n",
       " 'https://encrypted-tbn0.gstatic.com/images?q=tbn:ANd9GcTdcX3VdbfzKI6kIaGLM47V5Kynb7HrfJeGJA5xwKxz4lkz1rKpDwPlbl01Tg&s',\n",
       " 'https://encrypted-tbn0.gstatic.com/images?q=tbn:ANd9GcTFku6PIeCtYiykUm21FoLuE_oFNT-5zfgbZJzdEIiRQMFLQakjFGKEuvXvMQ&s',\n",
       " 'https://encrypted-tbn0.gstatic.com/images?q=tbn:ANd9GcQ3OlOTndyfC7eCPzWZcaNcPPNftSpetOUXkDE9m-QrI7_8DwY9jabMI6Olndw&s',\n",
       " 'https://encrypted-tbn0.gstatic.com/images?q=tbn:ANd9GcRSgpfMVBKgPIDR63AKENy3fDgzECFX4RgHToHYelLp8dA6ho7k2Wsd5z9AV_U&s',\n",
       " 'https://encrypted-tbn0.gstatic.com/images?q=tbn:ANd9GcSjF4haxOJxheVjHDdaHT6PfMLXVxw0Waw1YnFyLI8hzl8xVq1_bSEwLnd3Fw&s',\n",
       " 'https://encrypted-tbn0.gstatic.com/images?q=tbn:ANd9GcQgyNbGR30E9eyavgQMy5vcFM_gjNH3h_rrcP_Jz-2GMHqUYuapg-y3PYIDGMU&s',\n",
       " 'https://encrypted-tbn0.gstatic.com/images?q=tbn:ANd9GcTPcNHNQpctUGtgPuXH-vVEu_gX4cxtDNGE32GUo6y_m-Ys4m9jPb4jgNyNHug&s']"
      ]
     },
     "execution_count": 8,
     "metadata": {},
     "output_type": "execute_result"
    }
   ],
   "source": [
    " # now cleaning for all complete urls                                  \n",
    "image_source = [image for image in image_source if image.startswith('https')]\n",
    "image_source"
   ]
  },
  {
   "cell_type": "markdown",
   "id": "47afed00-ca47-4534-9b42-7240980bb324",
   "metadata": {},
   "source": [
    "# now saving the images"
   ]
  },
  {
   "cell_type": "code",
   "execution_count": 9,
   "id": "dd7e039e-abf9-4fac-8a9f-54ab959e31c8",
   "metadata": {},
   "outputs": [
    {
     "data": {
      "text/plain": [
       "'C:\\\\Users\\\\Admin\\\\Desktop\\\\Daily temp'"
      ]
     },
     "execution_count": 9,
     "metadata": {},
     "output_type": "execute_result"
    }
   ],
   "source": [
    "import os\n",
    "import wget \n",
    "\n",
    "path = os.getcwd()\n",
    "path"
   ]
  },
  {
   "cell_type": "code",
   "execution_count": 10,
   "id": "ab3b4940-6721-4879-987d-0f5d38575fb0",
   "metadata": {},
   "outputs": [
    {
     "data": {
      "text/plain": [
       "'C:\\\\Users\\\\Admin\\\\Desktop\\\\Daily temp\\\\bayblades'"
      ]
     },
     "execution_count": 10,
     "metadata": {},
     "output_type": "execute_result"
    }
   ],
   "source": [
    "# concatinating to get the same folder name at desired location\n",
    "\n",
    "path = os.path.join(path , search_term + 's')     # creating name\n",
    "path"
   ]
  },
  {
   "cell_type": "code",
   "execution_count": 11,
   "id": "e78b08a9-fdca-4767-a9ab-1b0a1b71a973",
   "metadata": {},
   "outputs": [],
   "source": [
    "# now commanding the comp to creat a local directory with same name\n",
    "\n",
    "# create the dir\n",
    "os.mkdir(path)\n",
    "\n"
   ]
  },
  {
   "cell_type": "code",
   "execution_count": 12,
   "id": "2f12caea-a76f-4cd8-bc89-41c13ef030ad",
   "metadata": {},
   "outputs": [
    {
     "name": "stdout",
     "output_type": "stream",
     "text": [
      "100% [................................................................................] 6233 / 6233"
     ]
    }
   ],
   "source": [
    "# now to save all the images in this folder \n",
    "\n",
    "count = 0\n",
    "for image in image_source:\n",
    "    name_as = os.path.join(path , search_term + str(count) + \".jpg\")                # name_as = path//cat1.jpg\n",
    "    wget.download(image,name_as)\n",
    "    count = count +1\n"
   ]
  },
  {
   "cell_type": "code",
   "execution_count": null,
   "id": "dd7bcd7b-9d39-4d04-ab98-aa75e01a823f",
   "metadata": {},
   "outputs": [],
   "source": []
  },
  {
   "cell_type": "code",
   "execution_count": null,
   "id": "2dc42f07-4a5e-4674-a388-5db34a5b7b16",
   "metadata": {},
   "outputs": [],
   "source": []
  },
  {
   "cell_type": "code",
   "execution_count": null,
   "id": "f0c721cf-5cda-4616-8f60-5b2bde8a524a",
   "metadata": {},
   "outputs": [],
   "source": []
  },
  {
   "cell_type": "code",
   "execution_count": null,
   "id": "24304ca0-b9ac-4de0-aba3-b8661cb83cf4",
   "metadata": {},
   "outputs": [],
   "source": []
  },
  {
   "cell_type": "code",
   "execution_count": null,
   "id": "b2e7f53e-df69-4a71-99d9-3d9760c6d215",
   "metadata": {},
   "outputs": [],
   "source": []
  },
  {
   "cell_type": "code",
   "execution_count": 13,
   "id": "5ad245f2-b73e-49fc-bc54-b8a8c824e8ff",
   "metadata": {},
   "outputs": [
    {
     "ename": "SyntaxError",
     "evalue": "EOF while scanning triple-quoted string literal (Temp/ipykernel_2236/3466926135.py, line 77)",
     "output_type": "error",
     "traceback": [
      "\u001b[1;36m  File \u001b[1;32m\"C:\\Users\\Admin\\AppData\\Local\\Temp/ipykernel_2236/3466926135.py\"\u001b[1;36m, line \u001b[1;32m77\u001b[0m\n\u001b[1;33m    \u001b[0m\n\u001b[1;37m    ^\u001b[0m\n\u001b[1;31mSyntaxError\u001b[0m\u001b[1;31m:\u001b[0m EOF while scanning triple-quoted string literal\n"
     ]
    }
   ],
   "source": [
    "\"\"\"\n",
    "\n",
    "                                               # Note : make sure to use google images and not google.com\n",
    "\n",
    "import mechanicalsoup                          # it helps open the url by creating a browser object to convineniently work with html elements by  creating cookies of the page\n",
    "\n",
    "browser = mechanicalsoup.StatefulBrowser()     # creating a browser object to convineniently work with html elements by  creating cookies of the page   \n",
    "url = \"https://images.google.com/\"\n",
    "browser.open(url)  \n",
    "\n",
    "                                                # Extracting html from browser page ::: HTML is the language for describing the structure of Web pages.\n",
    "browser.get_current_page()                      # HTML gives authors the means to:Publish online documents with headings, text, tables, lists, photos, etc. \n",
    "                                                # Retrieve online information via hypertext links, at the click of a button.\n",
    "\n",
    "    \n",
    "browser.select_form()                                            # target the selected search field\n",
    "browser.get_current_form().print_summary()                       # this gives all the available input fields on page\n",
    "    \n",
    "\n",
    "search_term  = \"chimney smoke\"                                                  \n",
    "browser[\"q\"] = search_term                                            # in inspect /developers page for search bar we need ----------------name=\"q\"\n",
    "                                                                      # search for a term\n",
    "                                                                      # pushing the created search command back to web page yet\n",
    "\n",
    "browser.launch_browser()                                              # this writes cat inside the search box  \n",
    " \n",
    "response = browser.submit_selected()                                  # submitting our search of cat = cat + enter and accept the responses collected \n",
    "\n",
    "print(\"new url: \", browser.get_url())                                 # since after selecting cat we are directed to new page thus = new url of cat page\n",
    "print(\"new response  : \\n\", response.text[:500])                      # also printing response of this new page\n",
    "\n",
    "new_url = browser.get_url()                                           # saving and opening the new url in a variable\n",
    "browser.open(new_url)                                                 # opening this new page\n",
    "page = browser.get_current_page()                                     # again collecting html/images\n",
    "\n",
    "all_images = page.find_all(\"img\")                                     # inside (\"\") img html abrivation for images\n",
    "\n",
    "all_images\n",
    "\n",
    "\n",
    "# we dont really need the image tag  we only need the source part in the iamge tag\n",
    "\n",
    "# thus targeting the source attribute\n",
    "image_source = []\n",
    "for image in all_images:\n",
    "    image = image.get(\"src\")\n",
    "    image_source.append(image)\n",
    " \n",
    "image_source \n",
    "\n",
    "\n",
    "# now saving the images\n",
    "import os\n",
    "import wget \n",
    "\n",
    "path = os.getcwd()\n",
    "path\n",
    "\n",
    "# concatinating to get the same folder name at desired location\n",
    "\n",
    "path = os.path.join(path , search_term + 's')     # creating name\n",
    "path\n",
    "\n",
    "# now commanding the comp to creat a local directory with same name\n",
    "\n",
    "# create the dir\n",
    "os.mkdir(path)\n",
    "\n",
    "\n",
    "# now to save all the images in this folder \n",
    "\n",
    "count = 0\n",
    "for image in image_source:\n",
    "    name_as = os.path.join(path , search_term + str(count) + \".jpg\")                # name_as = path//cat1.jpg\n",
    "    wget.download(image,name_as)\n",
    "    count = count +1\n",
    "\n"
   ]
  },
  {
   "cell_type": "code",
   "execution_count": null,
   "id": "ccd98d1d-9072-40c7-99c7-fe2c53a42eb4",
   "metadata": {},
   "outputs": [],
   "source": []
  },
  {
   "cell_type": "code",
   "execution_count": null,
   "id": "084b4bb2-4cd3-4385-9f78-6626d050143c",
   "metadata": {},
   "outputs": [],
   "source": []
  },
  {
   "cell_type": "code",
   "execution_count": null,
   "id": "edb80081-80ef-4787-9322-19c83a81a421",
   "metadata": {},
   "outputs": [],
   "source": []
  },
  {
   "cell_type": "code",
   "execution_count": null,
   "id": "32cd99d7-3419-4a6f-b27c-6b2add8bf98c",
   "metadata": {},
   "outputs": [],
   "source": []
  },
  {
   "cell_type": "code",
   "execution_count": null,
   "id": "ea778da6-ecb3-4119-a651-25c817837916",
   "metadata": {},
   "outputs": [],
   "source": [
    "\"\"\"pip install selenium"
   ]
  },
  {
   "cell_type": "code",
   "execution_count": null,
   "id": "946e2d35-f4cb-4ff2-9a3d-d358772cc50a",
   "metadata": {},
   "outputs": [],
   "source": [
    "\"\"\"from selenium import webdriver\n",
    "from selenium.webdriver.common.keys import Keys\n",
    "import requests, threading\n",
    "driver = webdriver.Chrome()\n",
    "def download(image):\n",
    "\tfilename = image.split('/')[-1]\n",
    "\tr = requests.get(image, stream=True)\n",
    "\tif r.status_code == 200:\n",
    "\t    with open(filename, 'wb') as f:\n",
    "\t        for chunk in r:\n",
    "\t            f.write(chunk)\n",
    "for page_number in range(1, 2):\n",
    "\tdriver.get('https://pixabay.com/images/search/?order=ec&pagi=' + str(page_number))\n",
    "\t[driver.find_element_by_tag_name('body').send_keys(Keys.PAGE_DOWN) for i in range(20)]\n",
    "\t[threading.Thread(target=download, args=(i.get_attribute('src'),)).start() for i in driver.find_element_by_class_name('search_results').find_elements_by_tag_name('img')]\n",
    "driver.close()\n",
    "quit()"
   ]
  },
  {
   "cell_type": "markdown",
   "id": "593b640c-45b6-4f6c-b420-2503469203ca",
   "metadata": {},
   "source": []
  }
 ],
 "metadata": {
  "kernelspec": {
   "display_name": "Python 3 (ipykernel)",
   "language": "python",
   "name": "python3"
  },
  "language_info": {
   "codemirror_mode": {
    "name": "ipython",
    "version": 3
   },
   "file_extension": ".py",
   "mimetype": "text/x-python",
   "name": "python",
   "nbconvert_exporter": "python",
   "pygments_lexer": "ipython3",
   "version": "3.9.7"
  }
 },
 "nbformat": 4,
 "nbformat_minor": 5
}
